{
 "cells": [
  {
   "cell_type": "code",
   "execution_count": 11,
   "id": "43068846",
   "metadata": {},
   "outputs": [
    {
     "name": "stdout",
     "output_type": "stream",
     "text": [
      "enter first_name : good\n",
      "enter last_name : evening\n",
      "User full name :  good evening\n"
     ]
    }
   ],
   "source": [
    "first_name= input(\"enter first_name : \")\n",
    "last_name= input(\"enter last_name : \")\n",
    "\n",
    "def full_name(first_name,last_name):\n",
    "    return first_name +\" \"+last_name\n",
    "             \n",
    "full_name_value = full_name(first_name,last_name)\n",
    "print(\"User full name : \",full_name_value)\n",
    "\n",
    "\n"
   ]
  },
  {
   "cell_type": "code",
   "execution_count": 6,
   "id": "e8fa5101",
   "metadata": {},
   "outputs": [
    {
     "name": "stdout",
     "output_type": "stream",
     "text": [
      "enter first_name : hello\n",
      "enter last_name : user\n",
      "Alternate String :  hloue\n"
     ]
    }
   ],
   "source": [
    "first_name= input(\"enter first_name : \")\n",
    "last_name= input(\"enter last_name : \")\n",
    "\n",
    "def string_alternative():      \n",
    "    return (first_name +\" \"+last_name)[::2]               \n",
    "\n",
    "print(\"Alternate String : \",string_alternative())\n"
   ]
  },
  {
   "cell_type": "code",
   "execution_count": 20,
   "id": "7846f0a3",
   "metadata": {},
   "outputs": [],
   "source": [
    "inn = open(\"input.txt\", \"r\")\n",
    "outt = open(\"output.txt\", \"w\")\n",
    "\n",
    "write_files = {}\n",
    "\n",
    "for line in inn:\n",
    "    outt.write(line)\n",
    "    lines = line.split()\n",
    "    for x in lines:\n",
    "        if(write_files.get(x) == None):\n",
    "            write_files[x] =  1 \n",
    "        else:\n",
    "            write_files[x] =  write_files[x] + 1\n",
    "            \n",
    "outt.write(\" \\n Word_Count : \\n\")\n",
    "for key in write_files: \n",
    "        outt.write('%s:%s\\n' % (key, write_files[key]))\n",
    "inn.close()\n",
    "outt.close()\n",
    "            \n"
   ]
  },
  {
   "cell_type": "code",
   "execution_count": 21,
   "id": "a79aafa2",
   "metadata": {},
   "outputs": [
    {
     "name": "stdout",
     "output_type": "stream",
     "text": [
      "L1: 66 66 777 88\n",
      "Output:   [167.64000000000001, 167.64000000000001, 1973.58, 223.52]\n"
     ]
    }
   ],
   "source": [
    "data = input(\"L1: \")\n",
    "\n",
    "cm_list = []\n",
    "\n",
    "for item in data.split():\n",
    "    value = int(item)\n",
    "    cm_list.append(value*2.54)\n",
    "    \n",
    "print(\"Output:  \",cm_list)\n"
   ]
  }
 ],
 "metadata": {
  "kernelspec": {
   "display_name": "Python 3 (ipykernel)",
   "language": "python",
   "name": "python3"
  },
  "language_info": {
   "codemirror_mode": {
    "name": "ipython",
    "version": 3
   },
   "file_extension": ".py",
   "mimetype": "text/x-python",
   "name": "python",
   "nbconvert_exporter": "python",
   "pygments_lexer": "ipython3",
   "version": "3.9.13"
  },
  "vscode": {
   "interpreter": {
    "hash": "31f2aee4e71d21fbe5cf8b01ff0e069b9275f58929596ceb00d14d90e3e16cd6"
   }
  }
 },
 "nbformat": 4,
 "nbformat_minor": 5
}
